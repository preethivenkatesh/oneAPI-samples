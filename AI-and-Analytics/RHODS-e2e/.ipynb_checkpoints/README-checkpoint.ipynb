{
 "cells": [
  {
   "cell_type": "markdown",
   "metadata": {},
   "source": [
    "\n",
    "#  E2E samples to get started with Intel® oneAPI  AI analytics toolkit\n",
    "\n",
    "This RHODS environment with Intel® oneAPI AI analytics toolkit aims to deliver high-performance DL workload on Intel® XPUs with Intel-optimized TensorFlow* and PyTorch*, Intel Model Zoo, and LPOT(Low precision optimization tool). The toolkit also includes drop-in acceleration for data preprocessing and machine learning workflows with compute-intensive Python* packages: Modin*, scikit-learn*, daal4py and XGBoost*.\n",
    "\n",
    "This Jupyter hub environment also features e2e samples  to get started with understanding how Intel® oneAPI AI analytics toolkit delivers optimized solutions for DL and ML workflows. Below are the list of samples:\n",
    "\n",
    "1. **[E2E_use_case_with_Intel_optimized_Tensorflow_LPOT](./E2E_use_case_with_Intel_optimized_Tensorflow_LPOT)**: This sample utilizes Intel-optimized Tensorflow and LPOT( Low Precision Optimizations Tool) in the Intel® oneAPI API analytics toolkit offered in the RHODS environment. The sample will train MNIST with Intel-optimized Tensorflow on alexnet, followed by quantizing with LPOT to convert fp32 trained model to int8 low-precision model and perform optimized inference. This sample will also provide performance and accuracy comparisons on fp32 vs int8 inference highlighting the importance of using LPOT in Intel® oneAPI AI analytics toolkit to  perform low-precision inference. Open the [lpot_sample_tensorflow.ipynb](./E2E_use_case_with_Intel_optimized_Tensorflow_LPOT/lpot_sample_tensorflow.ipynb) notebook and follow the instructions.\n",
    "\n",
    "2.  **[E2E_use_case_with_Intel_Modin_Intel_optimized_scikit-learn](./E2E_use_case_with_Intel_Modin_Intel_optimized_scikit-learn)**: This sample will introduce users to trivial extensions of using Intel Modin and Intel® Extension for scikit-learn from the Intel® oneAPI API analytics toolkit offered in the RHODS environment.  The sample trains US Census data with Intel® Extension for scikit-learn and utilizes Intel Modin on Pandas to perform optimized data preprocessing calls such as read_csv and other ETL operations.  Open the [census_modin.ipynb](./E2E_use_case_with_Intel_Modin_Intel_optimized_scikit-learn/census_modin.ipynb) notebook and follow the instructions.\n",
    "\n",
    "3. **[E2E_use_case_with_Intel_optimized_XGBoost_daal4py](./E2E_use_case_with_Intel_optimized_XGBoost_daal4py)**: This sample utilizes the Intel performant XGBoost package (> 1.0 version) to train on higgs dataset, and daal4py package for additional acceleration to run predictions.  Open the [IntelPython_XGBoost_daal4pyPrediction.ipynb](./E2E_use_case_with_Intel_optimized_XGBoost_daal4py/IntelPython_XGBoost_daal4pyPrediction.ipynb) notebook and follow the instructions.\n",
    "\n",
    "4. Intel Model Zoo is also shipped as part of the toolkit and can be found in the \"models\" folder. Go to models/quickstart on how to run various models offered as part of Intel Model Zoo \n",
    "\n",
    "For more samples, goto https://github.com/oneapi-src/oneAPI-samples/tree/master/AI-and-Analytics"
   ]
  }
 ],
 "metadata": {
  "kernelspec": {
   "display_name": "Python 3",
   "language": "python",
   "name": "python3"
  },
  "language_info": {
   "codemirror_mode": {
    "name": "ipython",
    "version": 3
   },
   "file_extension": ".py",
   "mimetype": "text/x-python",
   "name": "python",
   "nbconvert_exporter": "python",
   "pygments_lexer": "ipython3",
   "version": "3.7.6"
  }
 },
 "nbformat": 4,
 "nbformat_minor": 4
}
