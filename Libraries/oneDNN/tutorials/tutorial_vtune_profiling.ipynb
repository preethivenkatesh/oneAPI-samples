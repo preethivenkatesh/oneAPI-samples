{
 "cells": [
  {
   "cell_type": "markdown",
   "metadata": {},
   "source": [
    "# Profile Intel® oneAPI Deep Neural Network Library (oneDNN) Samples by using Intel® VTune Profiler and oneDNN ITT Tagging feature\n",
    "\n",
    "## Learning Objectives\n",
    "In this module the developer will:\n",
    "* Learn how to use VTune Profiler to profile oneDNN samples on CPU & GPU\n",
    "* Learn how to use oneDNN ITT Tagging feature to profile oneDNN samples one primitives level\n",
    "* Learn how to identify performance bottlenecks by VTune profiling"
   ]
  },
  {
   "cell_type": "markdown",
   "metadata": {},
   "source": [
    "***\n",
    "# VTune Profiling Exercise\n"
   ]
  },
  {
   "cell_type": "markdown",
   "metadata": {},
   "source": [
    "## prerequisites\n",
    "***\n",
    "### Step 1: Prepare the build/run environment\n",
    "oneDNN has four different configurations inside the Intel oneAPI toolkits. Each configuration is in a different folder under the oneDNN installation path, and each configuration supports a different compiler or threading library  \n",
    "\n",
    "Set the installation path of your oneAPI toolkit\n"
   ]
  },
  {
   "cell_type": "code",
   "execution_count": null,
   "metadata": {},
   "outputs": [],
   "source": [
    "# ignore all warning messages\n",
    "import warnings\n",
    "warnings.filterwarnings('ignore')"
   ]
  },
  {
   "cell_type": "code",
   "execution_count": null,
   "metadata": {},
   "outputs": [],
   "source": [
    "%env ONEAPI_INSTALL=/opt/intel/oneapi"
   ]
  },
  {
   "cell_type": "code",
   "execution_count": null,
   "metadata": {},
   "outputs": [],
   "source": [
    "import os\n",
    "if os.path.isdir(os.environ['ONEAPI_INSTALL']) == False:\n",
    "    print(\"ERROR! wrong oneAPI installation path\")"
   ]
  },
  {
   "cell_type": "code",
   "execution_count": null,
   "metadata": {
    "scrolled": true
   },
   "outputs": [],
   "source": [
    "!printf '%s\\n'     $ONEAPI_INSTALL/dnnl/latest/cpu_*"
   ]
  },
  {
   "cell_type": "markdown",
   "metadata": {},
   "source": [
    "As you can see, there are four different folders under the oneDNN installation path, and each of those configurations supports different features. This tutorial will show you how to compile and run against different oneDNN configurations."
   ]
  },
  {
   "cell_type": "markdown",
   "metadata": {},
   "source": [
    "First, create a lab folder for this exercise."
   ]
  },
  {
   "cell_type": "code",
   "execution_count": null,
   "metadata": {},
   "outputs": [],
   "source": [
    "!rm -rf lab;mkdir lab"
   ]
  },
  {
   "cell_type": "markdown",
   "metadata": {},
   "source": [
    "Install required python packages."
   ]
  },
  {
   "cell_type": "code",
   "execution_count": null,
   "metadata": {},
   "outputs": [],
   "source": [
    "!pip3 install -r requirements.txt"
   ]
  },
  {
   "cell_type": "markdown",
   "metadata": {},
   "source": [
    "Get current platform information for this exercise."
   ]
  },
  {
   "cell_type": "code",
   "execution_count": null,
   "metadata": {},
   "outputs": [],
   "source": [
    "from profiling.profile_utils import PlatformUtils\n",
    "plat_utils = PlatformUtils()\n",
    "plat_utils.dump_platform_info()"
   ]
  },
  {
   "cell_type": "markdown",
   "metadata": {},
   "source": [
    "###  Step 2: Preparing the performance profiling sample\n",
    "\n",
    "This exercise uses the performance_profiling.cpp example from oneDNN installation path.\n",
    "\n",
    "The section below will copy the performance_profiling.cpp file into the lab folder.  \n",
    "This section also copies the required header files and CMake file into the lab folder."
   ]
  },
  {
   "cell_type": "code",
   "execution_count": null,
   "metadata": {},
   "outputs": [],
   "source": [
    "!cp $ONEAPI_INSTALL/dnnl/latest/cpu_dpcpp_gpu_dpcpp/examples/performance_profiling.cpp lab/"
   ]
  },
  {
   "cell_type": "markdown",
   "metadata": {},
   "source": [
    "Users can browser source codes by running below section, and below section also remove comments for readability."
   ]
  },
  {
   "cell_type": "code",
   "execution_count": null,
   "metadata": {},
   "outputs": [],
   "source": [
    "!cpp -fpreprocessed  -dD -E lab/performance_profiling.cpp"
   ]
  },
  {
   "cell_type": "markdown",
   "metadata": {},
   "source": [
    "Then, copy the required header files and CMake file into the lab folder."
   ]
  },
  {
   "cell_type": "code",
   "execution_count": null,
   "metadata": {},
   "outputs": [],
   "source": [
    "!cp $ONEAPI_INSTALL/dnnl/latest/cpu_dpcpp_gpu_dpcpp/examples/example_utils.hpp lab/\n",
    "!cp $ONEAPI_INSTALL/dnnl/latest/cpu_dpcpp_gpu_dpcpp/examples/example_utils.h lab/\n",
    "!cp $ONEAPI_INSTALL/dnnl/latest/cpu_dpcpp_gpu_dpcpp/examples/CMakeLists.txt lab/"
   ]
  },
  {
   "cell_type": "markdown",
   "metadata": {},
   "source": [
    "Patch examples to enlarge runtime for profiling"
   ]
  },
  {
   "cell_type": "code",
   "execution_count": null,
   "metadata": {},
   "outputs": [],
   "source": [
    "!"
   ]
  },
  {
   "cell_type": "markdown",
   "metadata": {},
   "source": [
    "#### The performance profiling sample support different memory format\n",
    "\n",
    "|supported memory format | command |Description|\n",
    "|:-----|:----|:-----|\n",
    "|naive| performance-profiling-cpp cpu naive |use plain format (ex: NCHW) for the convolution|\n",
    "|blocked|performance-profiling-cpp cpu blocked|use blocked format (ex: nChw16c) for the convolution|\n",
    "|fused|performance-profiling-cpp cpu fused||"
   ]
  },
  {
   "cell_type": "markdown",
   "metadata": {},
   "source": [
    "\n",
    "### Step 3:  Build and Run with GNU Compiler and OpenMP \n",
    "One of the oneDNN configurations supports GNU compilers, but it can run only on CPU.\n",
    "The following section shows you how to build with G++ and run on CPU."
   ]
  },
  {
   "cell_type": "markdown",
   "metadata": {},
   "source": [
    "#### Script - build.sh\n",
    "The script **build.sh** encapsulates the compiler command and flags that will generate the exectuable.\n",
    "The user must switch to the G++ oneDNN configurations by inputting a custom configuration \"--dnnl-configuration=cpu_gomp\" when running \"source setvars.sh\".\n",
    "In order to use the G++ compiler and related OMP runtime, some definitions must be passed as cmake arguments.\n",
    "Here are related cmake arguments for DPC++ configuration : \n",
    "\n",
    "  -DCMAKE_C_COMPILER=gcc -DCMAKE_CXX_COMPILER=g++ -DDNNL_CPU_RUNTIME=OMP -DDNNL_GPU_RUNTIME=NONE"
   ]
  },
  {
   "cell_type": "code",
   "execution_count": null,
   "metadata": {},
   "outputs": [],
   "source": [
    "%%writefile build.sh\n",
    "#!/bin/bash\n",
    "source $ONEAPI_INSTALL/setvars.sh --dnnl-configuration=cpu_gomp --force> /dev/null 2>&1\n",
    "export EXAMPLE_ROOT=./lab/\n",
    "mkdir cpu_gomp\n",
    "cd cpu_gomp\n",
    "cmake .. -DCMAKE_C_COMPILER=gcc -DCMAKE_CXX_COMPILER=g++ -DDNNL_CPU_RUNTIME=OMP -DDNNL_GPU_RUNTIME=NONE\n",
    "make performance-profiling-cpp\n",
    "\n"
   ]
  },
  {
   "cell_type": "markdown",
   "metadata": {},
   "source": [
    "Once you achieve an all-clear from your compilation, you execute your program on the DevCloud or in local environments.\n",
    "\n",
    "#### Script - run.sh\n",
    "the script **run.sh** encapsulates the program for submission to the job queue for execution.\n",
    "The user must switch to the G++ oneDNN configuration by inputting a custom configuration \"--dnnl-configuration=cpu_gomp\" when running \"source setvars.sh\"."
   ]
  },
  {
   "cell_type": "code",
   "execution_count": null,
   "metadata": {},
   "outputs": [],
   "source": [
    "%%writefile run.sh\n",
    "#!/bin/bash\n",
    "source $ONEAPI_INSTALL/setvars.sh --dnnl-configuration=cpu_gomp --force> /dev/null 2>&1\n",
    "echo \"########## Executing the run\"\n",
    "./cpu_gomp/out/performance-profiling-cpp\n",
    "echo \"########## Done with the run\"\n"
   ]
  },
  {
   "cell_type": "markdown",
   "metadata": {},
   "source": [
    "\n",
    "#### OPTIONAL : replace $ONEAPI_INSTALL with set value in both build.sh and run.sh\n",
    "> NOTE : this step is mandatory if you run the notebook on DevCloud"
   ]
  },
  {
   "cell_type": "code",
   "execution_count": null,
   "metadata": {},
   "outputs": [],
   "source": [
    "from profiling.profile_utils import FileUtils\n",
    "file_utils = FileUtils()\n",
    "file_utils.replace_string_in_file('build.sh','$ONEAPI_INSTALL', os.environ['ONEAPI_INSTALL'] )\n",
    "file_utils.replace_string_in_file('run.sh','$ONEAPI_INSTALL', os.environ['ONEAPI_INSTALL'] )\n"
   ]
  },
  {
   "cell_type": "markdown",
   "metadata": {},
   "source": [
    "\n",
    "#### Submitting **build.sh** and **run.sh** to the job queue\n",
    "Now we can submit the **build.sh** and **run.sh** to the job queue.\n",
    "\n",
    "##### NOTE - it is possible to execute any of the build and run commands in local environments.\n",
    "To enable users to run their scripts both on the DevCloud or in local environments, this and subsequent training checks for the existence of the job submission command **qsub**.  If the check fails, it is assumed that build/run will be local."
   ]
  },
  {
   "cell_type": "code",
   "execution_count": null,
   "metadata": {},
   "outputs": [],
   "source": [
    "! rm -rf cpu_gomp;chmod 755 q; chmod 755 build.sh; chmod 755 run.sh;if [ -x \"$(command -v qsub)\" ]; then ./q build.sh; ./q run.sh; else ./build.sh; ./run.sh; fi"
   ]
  },
  {
   "cell_type": "markdown",
   "metadata": {},
   "source": [
    "## Profiling oneDNN Performance by VTune\n",
    "***\n",
    "In this section, we ....  \n",
    "Refer to the [link](https://oneapi-src.github.io/oneDNN/dev_guide_profilers.html) for related VTune profiling information"
   ]
  },
  {
   "cell_type": "markdown",
   "metadata": {},
   "source": [
    "###  Different VTune Profiling Types\n",
    "\n",
    "|Profiling Type|collect augument |Description|\n",
    "|:-----|:----|:-----|\n",
    "|Hotspots| 0 |no verbose output (default)|\n",
    "|Microarchitecture|1|primitive information at execution|\n",
    "|Threading|2|primitive information at creation and execution|\n",
    "\n",
    "fff"
   ]
  },
  {
   "cell_type": "markdown",
   "metadata": {},
   "source": [
    "###  Profile the performance profiling sample with naive data format\n"
   ]
  },
  {
   "cell_type": "markdown",
   "metadata": {},
   "source": [
    "####  1. Top oneDNN primitive hotspots\n",
    "\n",
    "* vtune -collect hotspots -q -no-summary -knob sampling-mode=hw -r dnnl-vtune ./bin/performance-profiling-cpp cpu naive\n",
    "* amplxe-cl -report hotspots -q -r dnnl-vtune -format csv -csv-delimiter ';' -group-by task -column 'CPU Time:Self' | head -n 10 | column -t -s';'"
   ]
  },
  {
   "cell_type": "code",
   "execution_count": null,
   "metadata": {},
   "outputs": [],
   "source": [
    "%%writefile profile.sh\n",
    "#!/bin/bash\n",
    "source $ONEAPI_INSTALL/setvars.sh --dnnl-configuration=cpu_gomp --force> /dev/null 2>&1\n",
    "echo \"########## Executing the profiling\"\n",
    "vtune -collect hotspots -q -no-summary -knob sampling-mode=hw -r dnnl-vtune ./cpu_gomp/out/performance-profiling-cpp cpu naive\n",
    "echo \"########## Done with the profiling\"\n"
   ]
  },
  {
   "cell_type": "code",
   "execution_count": null,
   "metadata": {},
   "outputs": [],
   "source": [
    "%%writefile analyze.sh\n",
    "#!/bin/bash\n",
    "source $ONEAPI_INSTALL/setvars.sh --dnnl-configuration=cpu_gomp --force> /dev/null 2>&1\n",
    "echo \"########## Executing the analyzing\"\n",
    "vtune -report hotspots -q -r dnnl-vtune -format csv -csv-delimiter ';' -group-by task -column 'CPU Time:Self' | head -n 10 | column -t -s';'\n",
    "echo \"########## Done with the analyzing\"\n"
   ]
  },
  {
   "cell_type": "code",
   "execution_count": null,
   "metadata": {},
   "outputs": [],
   "source": [
    "from profiling.profile_utils import FileUtils\n",
    "file_utils = FileUtils()\n",
    "file_utils.replace_string_in_file('profile.sh','$ONEAPI_INSTALL', os.environ['ONEAPI_INSTALL'] )\n",
    "file_utils.replace_string_in_file('analyze.sh','$ONEAPI_INSTALL', os.environ['ONEAPI_INSTALL'] )\n"
   ]
  },
  {
   "cell_type": "code",
   "execution_count": null,
   "metadata": {},
   "outputs": [],
   "source": [
    "!chmod 755 q;chmod 755 profile.sh;if [ -x \"$(command -v qsub)\" ]; then ./q profile.sh; else ./profile.sh; fi"
   ]
  },
  {
   "cell_type": "code",
   "execution_count": null,
   "metadata": {},
   "outputs": [],
   "source": [
    "!chmod 755 q;chmod 755 analyze.sh;if [ -x \"$(command -v qsub)\" ]; then ./q analyze.sh; else ./analyze.sh; fi"
   ]
  },
  {
   "cell_type": "markdown",
   "metadata": {},
   "source": [
    "####  2. Vectorization over oneDNN primitives\n",
    "\n",
    "* vtune -collect uarch-exploration -knob sampling-interval=1 -data-limit=2000  -q -no-summary -r dnnl-vtune-ue ./bin/performance-profiling-cpp cpu naive\n",
    "* vtune -report hotspots -q -r dnnl-vtune-ue-2 -format csv -csv-delimiter ';' -group-by task -column 'FP Arithmetic:FP Vector' | head -n 10 | column -t -s';'\n",
    "* vtune -report hotspots -q -r dnnl-vtune-ue-1 -format csv -csv-delimiter ';' -group-by task -column 'FP Arithmetic:FP Scalar' | head -n 10 | column -t -s';'\n",
    "*  vtune -report hotspots -q -r dnnl-vtune-ue-1 -format csv -csv-delimiter ';' -group-by task -column 'Vector Capacity Usage' | head -n 10 | column -t -s';'"
   ]
  },
  {
   "cell_type": "code",
   "execution_count": null,
   "metadata": {},
   "outputs": [],
   "source": [
    "%%writefile profile.sh\n",
    "#!/bin/bash\n",
    "source $ONEAPI_INSTALL/setvars.sh --dnnl-configuration=cpu_gomp --force> /dev/null 2>&1\n",
    "echo \"########## Executing the profiling\"\n",
    "vtune -collect uarch-exploration -knob sampling-interval=1 -data-limit=2000 -q -no-summary -r dnnl-vtune-ue ./cpu_gomp/out/performance-profiling-cpp cpu naive\n",
    "echo \"########## Done with the profiling\"\n"
   ]
  },
  {
   "cell_type": "code",
   "execution_count": null,
   "metadata": {},
   "outputs": [],
   "source": [
    "%%writefile analyze.sh\n",
    "#!/bin/bash\n",
    "source $ONEAPI_INSTALL/setvars.sh --dnnl-configuration=cpu_gomp --force> /dev/null 2>&1\n",
    "echo \"########## Executing the analyzing\"\n",
    "vtune -report hotspots -q -r dnnl-vtune-ue -format csv -csv-delimiter ';' -group-by task -column 'FP Arithmetic:FP Vector' | head -n 10 | column -t -s';'\n",
    "vtune -report hotspots -q -r dnnl-vtune-ue -format csv -csv-delimiter ';' -group-by task -column 'FP Arithmetic:FP Scalar' | head -n 10 | column -t -s';'\n",
    "vtune -report hotspots -q -r dnnl-vtune-ue -format csv -csv-delimiter ';' -group-by task -column 'Vector Capacity Usage' | head -n 10 | column -t -s';'\n",
    "echo \"########## Done with the analyzing\"\n"
   ]
  },
  {
   "cell_type": "code",
   "execution_count": null,
   "metadata": {},
   "outputs": [],
   "source": [
    "from profiling.profile_utils import FileUtils\n",
    "file_utils = FileUtils()\n",
    "file_utils.replace_string_in_file('profile.sh','$ONEAPI_INSTALL', os.environ['ONEAPI_INSTALL'] )\n",
    "file_utils.replace_string_in_file('analyze.sh','$ONEAPI_INSTALL', os.environ['ONEAPI_INSTALL'] )\n"
   ]
  },
  {
   "cell_type": "code",
   "execution_count": null,
   "metadata": {},
   "outputs": [],
   "source": [
    "!chmod 755 q;chmod 755 profile.sh;if [ -x \"$(command -v qsub)\" ]; then ./q profile.sh; else ./profile.sh; fi"
   ]
  },
  {
   "cell_type": "code",
   "execution_count": null,
   "metadata": {},
   "outputs": [],
   "source": [
    "!chmod 755 q;chmod 755 analyze.sh;if [ -x \"$(command -v qsub)\" ]; then ./q analyze.sh; else ./analyze.sh; fi"
   ]
  },
  {
   "cell_type": "markdown",
   "metadata": {},
   "source": [
    "####  3. Memory Bound over oneDNN primitives\n",
    "\n",
    "* vtune -collect hotspots -q -no-summary -knob sampling-mode=hw -r dnnl-vtune ./bin/performance-profiling-cpp cpu naive\n",
    "* vtune -report hotspots -q -r dnnl-vtune-ue-3 -format csv -csv-delimiter ';' -group-by task -column 'DRAM Bound' | head -n 10 | column -t -s';'\n",
    "* vtune -report hotspots -q -r dnnl-vtune-ue-2 -format csv -csv-delimiter ';' -group-by task -column 'L3 Bound' | head -n 10 | column -t -s';'\n",
    "* vtune -report hotspots -q -r dnnl-vtune-ue-3 -format csv -csv-delimiter ';' -group-by task -column 'L1 Bound' | head -n 10 | column -t -s';'"
   ]
  },
  {
   "cell_type": "code",
   "execution_count": null,
   "metadata": {},
   "outputs": [],
   "source": [
    "%%writefile analyze.sh\n",
    "#!/bin/bash\n",
    "source $ONEAPI_INSTALL/setvars.sh --dnnl-configuration=cpu_gomp --force> /dev/null 2>&1\n",
    "echo \"########## Executing the analyzing\"\n",
    "vtune -report hotspots -q -r dnnl-vtune-ue -format csv -csv-delimiter ';' -group-by task -column 'DRAM Bound' | head -n 10 | column -t -s';'\n",
    "vtune -report hotspots -q -r dnnl-vtune-ue -format csv -csv-delimiter ';' -group-by task -column 'L3 Bound' | head -n 10 | column -t -s';'\n",
    "vtune -report hotspots -q -r dnnl-vtune-ue -format csv -csv-delimiter ';' -group-by task -column 'L1 Bound' | head -n 10 | column -t -s';'\n",
    "echo \"########## Done with the analyzing\"\n"
   ]
  },
  {
   "cell_type": "code",
   "execution_count": null,
   "metadata": {},
   "outputs": [],
   "source": [
    "from profiling.profile_utils import FileUtils\n",
    "file_utils = FileUtils()\n",
    "file_utils.replace_string_in_file('analyze.sh','$ONEAPI_INSTALL', os.environ['ONEAPI_INSTALL'] )\n"
   ]
  },
  {
   "cell_type": "code",
   "execution_count": null,
   "metadata": {},
   "outputs": [],
   "source": [
    "!chmod 755 q;chmod 755 analyze.sh;if [ -x \"$(command -v qsub)\" ]; then ./q analyze.sh; else ./analyze.sh; fi"
   ]
  },
  {
   "cell_type": "markdown",
   "metadata": {},
   "source": [
    "####  4. Thread Oversubscription\n",
    "\n",
    "* vtune -collect threading -data-limit=2000  -q -no-summary -r dnnl-vtune-th-1 ./bin/performance-profiling-cpp cpu naive\n",
    "* vtune -report summary -result-dir $(pwd)/vtune_data -format html -report-output $(pwd)/summary.html\n",
    "get number of oversubscription\n"
   ]
  },
  {
   "cell_type": "code",
   "execution_count": null,
   "metadata": {},
   "outputs": [],
   "source": [
    "%%writefile profile.sh\n",
    "#!/bin/bash\n",
    "source $ONEAPI_INSTALL/setvars.sh --dnnl-configuration=cpu_gomp --force> /dev/null 2>&1\n",
    "echo \"########## Executing the profiling\"\n",
    "export OMP_NUM_THREADS=24 \n",
    "vtune -collect threading -data-limit=2000 -q -no-summary -r dnnl-vtune-th ./cpu_gomp/out/performance-profiling-cpp cpu naive\n",
    "echo \"########## Done with the profiling\"\n"
   ]
  },
  {
   "cell_type": "code",
   "execution_count": null,
   "metadata": {},
   "outputs": [],
   "source": [
    "%%writefile analyze.sh\n",
    "#!/bin/bash\n",
    "source $ONEAPI_INSTALL/setvars.sh --dnnl-configuration=cpu_gomp --force> /dev/null 2>&1\n",
    "echo \"########## Executing the analyzing\"\n",
    "vtune -report summary -r dnnl-vtune-th --format html -report-output summary.html\n",
    "echo \"########## Done with the analyzing\"\n"
   ]
  },
  {
   "cell_type": "code",
   "execution_count": null,
   "metadata": {},
   "outputs": [],
   "source": [
    "from profiling.profile_utils import FileUtils\n",
    "file_utils = FileUtils()\n",
    "file_utils.replace_string_in_file('profile.sh','$ONEAPI_INSTALL', os.environ['ONEAPI_INSTALL'] )\n",
    "file_utils.replace_string_in_file('analyze.sh','$ONEAPI_INSTALL', os.environ['ONEAPI_INSTALL'] )\n"
   ]
  },
  {
   "cell_type": "code",
   "execution_count": null,
   "metadata": {},
   "outputs": [],
   "source": [
    "!rm -rf dnnl-vtune-th; chmod 755 q;chmod 755 profile.sh;if [ -x \"$(command -v qsub)\" ]; then ./q profile.sh; else ./profile.sh; fi"
   ]
  },
  {
   "cell_type": "code",
   "execution_count": null,
   "metadata": {},
   "outputs": [],
   "source": [
    "!chmod 755 q;chmod 755 analyze.sh;if [ -x \"$(command -v qsub)\" ]; then ./q analyze.sh; else ./analyze.sh; fi"
   ]
  },
  {
   "cell_type": "code",
   "execution_count": null,
   "metadata": {},
   "outputs": [],
   "source": [
    "from IPython.display import IFrame\n",
    "IFrame(src='summary.html', width=960, height=600)"
   ]
  },
  {
   "cell_type": "markdown",
   "metadata": {},
   "source": [
    "###  Profile the performance profiling sample with blocked data format\n"
   ]
  },
  {
   "cell_type": "markdown",
   "metadata": {},
   "source": [
    "####  1. Top oneDNN primitive hotspots\n",
    "\n",
    "* vtune -collect hotspots -q -no-summary -knob sampling-mode=hw -r dnnl-vtune ./bin/performance-profiling-cpp cpu naive\n",
    "* amplxe-cl -report hotspots -q -r dnnl-vtune -format csv -csv-delimiter ';' -group-by task -column 'CPU Time:Self' | head -n 10 | column -t -s';'"
   ]
  },
  {
   "cell_type": "code",
   "execution_count": null,
   "metadata": {},
   "outputs": [],
   "source": [
    "%%writefile profile.sh\n",
    "#!/bin/bash\n",
    "source $ONEAPI_INSTALL/setvars.sh --dnnl-configuration=cpu_gomp --force> /dev/null 2>&1\n",
    "echo \"########## Executing the profiling\"\n",
    "vtune -collect hotspots -q -no-summary -knob sampling-mode=hw -r dnnl-vtune-b ./cpu_gomp/out/performance-profiling-cpp cpu blocked\n",
    "echo \"########## Done with the profiling\"\n"
   ]
  },
  {
   "cell_type": "code",
   "execution_count": null,
   "metadata": {},
   "outputs": [],
   "source": [
    "%%writefile analyze.sh\n",
    "#!/bin/bash\n",
    "source $ONEAPI_INSTALL/setvars.sh --dnnl-configuration=cpu_gomp --force> /dev/null 2>&1\n",
    "echo \"########## Executing the analyzing\"\n",
    "vtune -report hotspots -q -r dnnl-vtune-b -format csv -csv-delimiter ';' -group-by task -column 'CPU Time:Self' | head -n 10 | column -t -s';'\n",
    "echo \"########## Done with the analyzing\"\n"
   ]
  },
  {
   "cell_type": "code",
   "execution_count": null,
   "metadata": {},
   "outputs": [],
   "source": [
    "from profiling.profile_utils import FileUtils\n",
    "file_utils = FileUtils()\n",
    "file_utils.replace_string_in_file('profile.sh','$ONEAPI_INSTALL', os.environ['ONEAPI_INSTALL'] )\n",
    "file_utils.replace_string_in_file('analyze.sh','$ONEAPI_INSTALL', os.environ['ONEAPI_INSTALL'] )\n"
   ]
  },
  {
   "cell_type": "code",
   "execution_count": null,
   "metadata": {},
   "outputs": [],
   "source": [
    "!chmod 755 q;chmod 755 profile.sh;if [ -x \"$(command -v qsub)\" ]; then ./q profile.sh; else ./profile.sh; fi"
   ]
  },
  {
   "cell_type": "code",
   "execution_count": null,
   "metadata": {},
   "outputs": [],
   "source": [
    "!chmod 755 q;chmod 755 analyze.sh;if [ -x \"$(command -v qsub)\" ]; then ./q analyze.sh; else ./analyze.sh; fi"
   ]
  },
  {
   "cell_type": "markdown",
   "metadata": {},
   "source": [
    "####  2. Vectorization over oneDNN primitives\n",
    "\n",
    "* vtune -collect uarch-exploration -knob sampling-interval=1 -data-limit=2000  -q -no-summary -r dnnl-vtune-ue ./bin/performance-profiling-cpp cpu naive\n",
    "* vtune -report hotspots -q -r dnnl-vtune-ue-2 -format csv -csv-delimiter ';' -group-by task -column 'FP Arithmetic:FP Vector' | head -n 10 | column -t -s';'\n",
    "* vtune -report hotspots -q -r dnnl-vtune-ue-1 -format csv -csv-delimiter ';' -group-by task -column 'FP Arithmetic:FP Scalar' | head -n 10 | column -t -s';'\n",
    "*  vtune -report hotspots -q -r dnnl-vtune-ue-1 -format csv -csv-delimiter ';' -group-by task -column 'Vector Capacity Usage' | head -n 10 | column -t -s';'"
   ]
  },
  {
   "cell_type": "code",
   "execution_count": null,
   "metadata": {},
   "outputs": [],
   "source": [
    "%%writefile profile.sh\n",
    "#!/bin/bash\n",
    "source $ONEAPI_INSTALL/setvars.sh --dnnl-configuration=cpu_gomp --force> /dev/null 2>&1\n",
    "echo \"########## Executing the profiling\"\n",
    "vtune -collect uarch-exploration -knob sampling-interval=1 -data-limit=2000 -q -no-summary -r dnnl-vtune-ue-b ./cpu_gomp/out/performance-profiling-cpp cpu blocked\n",
    "echo \"########## Done with the profiling\"\n"
   ]
  },
  {
   "cell_type": "code",
   "execution_count": null,
   "metadata": {},
   "outputs": [],
   "source": [
    "%%writefile analyze.sh\n",
    "#!/bin/bash\n",
    "source $ONEAPI_INSTALL/setvars.sh --dnnl-configuration=cpu_gomp --force> /dev/null 2>&1\n",
    "echo \"########## Executing the analyzing\"\n",
    "vtune -report hotspots -q -r dnnl-vtune-ue-b -format csv -csv-delimiter ';' -group-by task -column 'FP Arithmetic:FP Vector' | head -n 10 | column -t -s';'\n",
    "vtune -report hotspots -q -r dnnl-vtune-ue-b -format csv -csv-delimiter ';' -group-by task -column 'FP Arithmetic:FP Scalar' | head -n 10 | column -t -s';'\n",
    "vtune -report hotspots -q -r dnnl-vtune-ue-b -format csv -csv-delimiter ';' -group-by task -column 'Vector Capacity Usage' | head -n 10 | column -t -s';'\n",
    "echo \"########## Done with the analyzing\"\n"
   ]
  },
  {
   "cell_type": "code",
   "execution_count": null,
   "metadata": {},
   "outputs": [],
   "source": [
    "from profiling.profile_utils import FileUtils\n",
    "file_utils = FileUtils()\n",
    "file_utils.replace_string_in_file('profile.sh','$ONEAPI_INSTALL', os.environ['ONEAPI_INSTALL'] )\n",
    "file_utils.replace_string_in_file('analyze.sh','$ONEAPI_INSTALL', os.environ['ONEAPI_INSTALL'] )\n"
   ]
  },
  {
   "cell_type": "code",
   "execution_count": null,
   "metadata": {},
   "outputs": [],
   "source": [
    "!chmod 755 q;chmod 755 profile.sh;if [ -x \"$(command -v qsub)\" ]; then ./q profile.sh; else ./profile.sh; fi"
   ]
  },
  {
   "cell_type": "code",
   "execution_count": null,
   "metadata": {},
   "outputs": [],
   "source": [
    "!chmod 755 q;chmod 755 analyze.sh;if [ -x \"$(command -v qsub)\" ]; then ./q analyze.sh; else ./analyze.sh; fi"
   ]
  },
  {
   "cell_type": "markdown",
   "metadata": {},
   "source": [
    "####  3. Memory Bound over oneDNN primitives\n",
    "\n",
    "* vtune -collect hotspots -q -no-summary -knob sampling-mode=hw -r dnnl-vtune ./bin/performance-profiling-cpp cpu naive\n",
    "* vtune -report hotspots -q -r dnnl-vtune-ue-3 -format csv -csv-delimiter ';' -group-by task -column 'DRAM Bound' | head -n 10 | column -t -s';'\n",
    "* vtune -report hotspots -q -r dnnl-vtune-ue-2 -format csv -csv-delimiter ';' -group-by task -column 'L3 Bound' | head -n 10 | column -t -s';'\n",
    "* vtune -report hotspots -q -r dnnl-vtune-ue-3 -format csv -csv-delimiter ';' -group-by task -column 'L1 Bound' | head -n 10 | column -t -s';'"
   ]
  },
  {
   "cell_type": "code",
   "execution_count": null,
   "metadata": {},
   "outputs": [],
   "source": [
    "%%writefile analyze.sh\n",
    "#!/bin/bash\n",
    "source $ONEAPI_INSTALL/setvars.sh --dnnl-configuration=cpu_gomp --force> /dev/null 2>&1\n",
    "echo \"########## Executing the analyzing\"\n",
    "vtune -report hotspots -q -r dnnl-vtune-ue-b -format csv -csv-delimiter ';' -group-by task -column 'DRAM Bound' | head -n 10 | column -t -s';'\n",
    "vtune -report hotspots -q -r dnnl-vtune-ue-b -format csv -csv-delimiter ';' -group-by task -column 'L3 Bound' | head -n 10 | column -t -s';'\n",
    "vtune -report hotspots -q -r dnnl-vtune-ue-b -format csv -csv-delimiter ';' -group-by task -column 'L1 Bound' | head -n 10 | column -t -s';'\n",
    "echo \"########## Done with the analyzing\"\n"
   ]
  },
  {
   "cell_type": "code",
   "execution_count": null,
   "metadata": {},
   "outputs": [],
   "source": [
    "from profiling.profile_utils import FileUtils\n",
    "file_utils = FileUtils()\n",
    "file_utils.replace_string_in_file('analyze.sh','$ONEAPI_INSTALL', os.environ['ONEAPI_INSTALL'] )\n"
   ]
  },
  {
   "cell_type": "code",
   "execution_count": null,
   "metadata": {},
   "outputs": [],
   "source": [
    "!chmod 755 q;chmod 755 analyze.sh;if [ -x \"$(command -v qsub)\" ]; then ./q analyze.sh; else ./analyze.sh; fi"
   ]
  },
  {
   "cell_type": "markdown",
   "metadata": {},
   "source": [
    "***\n",
    "# Summary\n",
    "In this lab the developer learned the following:\n",
    "* What are the different oneDNN configurations inside the Intel oneAPI toolkits\n",
    "* How to compile a oneDNN sample with different configurations via batch jobs on the Intel oneAPI DevCloud or in local environments\n",
    "* How to program oneDNN with a simple sample\n"
   ]
  },
  {
   "cell_type": "code",
   "execution_count": null,
   "metadata": {},
   "outputs": [],
   "source": []
  }
 ],
 "metadata": {
  "kernelspec": {
   "display_name": "Python 3",
   "language": "python",
   "name": "python3"
  },
  "language_info": {
   "codemirror_mode": {
    "name": "ipython",
    "version": 3
   },
   "file_extension": ".py",
   "mimetype": "text/x-python",
   "name": "python",
   "nbconvert_exporter": "python",
   "pygments_lexer": "ipython3",
   "version": "3.7.4"
  },
  "toc": {
   "base_numbering": 1,
   "nav_menu": {},
   "number_sections": true,
   "sideBar": true,
   "skip_h1_title": false,
   "title_cell": "Table of Contents",
   "title_sidebar": "Contents",
   "toc_cell": false,
   "toc_position": {
    "height": "525.6px",
    "left": "28px",
    "top": "137.8px",
    "width": "301.109px"
   },
   "toc_section_display": true,
   "toc_window_display": true
  }
 },
 "nbformat": 4,
 "nbformat_minor": 4
}
